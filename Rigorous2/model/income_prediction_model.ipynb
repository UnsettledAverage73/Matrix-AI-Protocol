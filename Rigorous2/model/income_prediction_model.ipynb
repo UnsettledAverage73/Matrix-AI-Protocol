{
  "cells": [
    {
      "cell_type": "markdown",
      "metadata": {},
      "source": [
        "# Income Prediction Model using XGBoost\n",
        "\n",
        "This notebook builds an income prediction model using the same dataset and features as the repayment capability model. It uses XGBoost and provides model evaluation, feature importance, and example predictions."
      ]
    },
    {
      "cell_type": "code",
      "execution_count": null,
      "metadata": {},
      "outputs": [],
      "source": [
        "# Install required packages if running in a new environment\n",
        "!pip install xgboost scikit-learn matplotlib seaborn pandas numpy --quiet"
      ]
    }
  ],
  "metadata": {
    "language_info": {
      "name": "python"
    }
  },
  "nbformat": 4,
  "nbformat_minor": 2
}
